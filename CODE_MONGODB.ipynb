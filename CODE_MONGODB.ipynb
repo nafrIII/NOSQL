{
 "cells": [
  {
   "cell_type": "markdown",
   "metadata": {},
   "source": [
    "# Run Test"
   ]
  },
  {
   "cell_type": "code",
   "execution_count": null,
   "metadata": {},
   "outputs": [],
   "source": [
    "# Libraries\n",
    "# pip install pymongo\n",
    "import pymongo\n",
    "from pymongo import MongoClient\n",
    "import datetime"
   ]
  },
  {
   "cell_type": "code",
   "execution_count": null,
   "metadata": {},
   "outputs": [],
   "source": [
    "# Connects to local host\n",
    "client = MongoClient()\n",
    "\n",
    "# Create Database\n",
    "db = client.INF217\n",
    "\n",
    "# Create Collection\n",
    "customers = db.customer\n",
    "\n",
    "# Create Object / Document\n",
    "customer_info = {\n",
    "    \"name\": \"Grissel Ancliff\",\n",
    "    \"email\": \"gancliffc8@ca.gov\",\n",
    "    \"address\": {\n",
    "        \"country\": [\"China\", \"Portugal\", \"China\"],\n",
    "        \"city\": [\"Shayuan\", \"Pinheiro\", \"Hengpi\"],\n",
    "        \"street\": [\"4 Melrose Alley\", \"13191 Burning Wood Junction\", \"5 Burning Wood Lane\"]\n",
    "  }\n",
    "}\n",
    "\n",
    "# Inserting the Object / Document\n",
    "customer_id = customers.insert_one(customer_info).inserted_id\n",
    "# HELP"
   ]
  },
  {
   "cell_type": "code",
   "execution_count": null,
   "metadata": {},
   "outputs": [],
   "source": [
    "# Lists all collection in database\n",
    "db.list_collection_names()"
   ]
  },
  {
   "cell_type": "code",
   "execution_count": null,
   "metadata": {},
   "outputs": [],
   "source": [
    "books = db.book\n",
    "\n",
    "book_info = {\n",
    "    \"title\": \"The World's First Love: Mary  Mother of God\",\n",
    "    \"author\": \"Fulton J. Sheen\",\n",
    "    \"language\": \"United States English\",\n",
    "    \"isbn13\": \"8987059752\",\n",
    "    \"price\": 4.11,\n",
    "    \"num_pages\": 276,\n",
    "    \"publisher\": \"Ignatius Press\",\n",
    "    \"publication_date\": datetime.datetime(1996, 9, 1),\n",
    "}\n",
    "\n",
    "book_id = books.insert_one(book_info).inserted_id"
   ]
  },
  {
   "cell_type": "code",
   "execution_count": null,
   "metadata": {},
   "outputs": [],
   "source": [
    "orders = db.order\n",
    "\n",
    "order_info = {\n",
    "    \"book_id\": book_id,\n",
    "    \"customer_id\": [customer_id],\n",
    "    \"order_date\": [datetime.datetime(2022, 9, 28, hour=18, minute=44, second=24)],\n",
    "    \"shipping_address\": {\n",
    "            \"country\": [\"China\", \"Portugal\", \"China\"],\n",
    "            \"city\": [\"Shayuan\", \"Pinheiro\", \"Hengpi\"],\n",
    "            \"street\": [\"4 Melrose Alley\", \"13191 Burning Wood Junction\", \"5 Burning Wood Lane\"]\n",
    "        }\n",
    "}\n",
    "\n",
    "order_id = orders.insert_one(order_info).inserted_id"
   ]
  }
 ],
 "metadata": {
  "kernelspec": {
   "display_name": "base",
   "language": "python",
   "name": "python3"
  },
  "language_info": {
   "codemirror_mode": {
    "name": "ipython",
    "version": 3
   },
   "file_extension": ".py",
   "mimetype": "text/x-python",
   "name": "python",
   "nbconvert_exporter": "python",
   "pygments_lexer": "ipython3",
   "version": "3.11.5"
  }
 },
 "nbformat": 4,
 "nbformat_minor": 2
}
